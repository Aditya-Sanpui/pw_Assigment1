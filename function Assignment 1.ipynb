{
 "cells": [
  {
   "cell_type": "code",
   "execution_count": 13,
   "id": "d7510672-ceea-4573-b23f-d95a9f128d36",
   "metadata": {},
   "outputs": [],
   "source": [
    "# Q1.\n",
    "# def keyword use to create a function \n",
    "def odd_num():\n",
    "    odd_numbers = []\n",
    "    for i in range (25):\n",
    "        if i%2!=0:\n",
    "            odd_numbers.append(i)\n",
    "    return odd_numbers"
   ]
  },
  {
   "cell_type": "code",
   "execution_count": 14,
   "id": "8e66d79a-d5c5-4514-ae09-18f4b5818cb7",
   "metadata": {},
   "outputs": [
    {
     "data": {
      "text/plain": [
       "[1, 3, 5, 7, 9, 11, 13, 15, 17, 19, 21, 23]"
      ]
     },
     "execution_count": 14,
     "metadata": {},
     "output_type": "execute_result"
    }
   ],
   "source": [
    "odd_num()"
   ]
  },
  {
   "cell_type": "code",
   "execution_count": 18,
   "id": "c1a82c22-7ff7-4279-87fd-8cb718381db3",
   "metadata": {},
   "outputs": [
    {
     "name": "stdout",
     "output_type": "stream",
     "text": [
      "68\n",
      "name : Adity sanpui\n",
      "age : 18\n",
      "city : kolkata\n"
     ]
    }
   ],
   "source": [
    "#Q2\n",
    "\"\"\"In python , '*args' and '**kwargs' are used to pass a variable number of arguments to a function.\"\"\"\n",
    "#'*args'\n",
    "def total_sum(*Adi):\n",
    "    total = 0\n",
    "    for i in Adi :\n",
    "        total = total + i\n",
    "    return total\n",
    "print(total_sum(1,2,4,5,56))\n",
    "\n",
    "#'**kwargs'\n",
    "def print_kwargs(**kwargs):\n",
    "    for key, value in kwargs.items():\n",
    "        print(key, \":\", value)\n",
    "print_kwargs(name=\"Adity sanpui\", age=18, city=\"kolkata\")\n"
   ]
  },
  {
   "cell_type": "code",
   "execution_count": 1,
   "id": "f3cc8c5e-86d1-40a7-bf0b-5463c5e5d129",
   "metadata": {},
   "outputs": [
    {
     "name": "stdout",
     "output_type": "stream",
     "text": [
      "2\n",
      "4\n",
      "6\n",
      "8\n",
      "10\n"
     ]
    }
   ],
   "source": [
    "# Q3\n",
    "\"\"\"In python ,an iterator is an object that implements the iterator protocol,which consists of the '__iter__() ' and '__next __()' methods .\n",
    "Iterators are used to iterate over a sequence of elements ,such as a list tuple ,or other iterable objects \"\"\"\n",
    "\n",
    "\"\"\"The method used for iteration is __next__(). This method is called on the iterator object to retrieve the next element from the sequence.\n",
    "When there are no more elements to iterate over, the __next__() method raises the StopIteration exception\"\"\"\n",
    "\n",
    "\"\"\"To print the first five elements of the given list '[2, 4, 6, 8, 10, 12, 14, 16, 18, 20]',\n",
    "we can use the built-in  'iter()' function to create an iterator object and then repeatedly call 'next ' on it \"\"\"\n",
    "\n",
    "my_list = [2, 4, 6, 8, 10, 12, 14, 16, 18, 20]\n",
    "my_iterator = iter(my_list)\n",
    "for _ in range(5):\n",
    "    print(next(my_iterator))"
   ]
  },
  {
   "cell_type": "code",
   "execution_count": 3,
   "id": "4f4f9e40-d4b5-4618-8a98-31300476ba53",
   "metadata": {},
   "outputs": [
    {
     "name": "stdout",
     "output_type": "stream",
     "text": [
      "0\n",
      "2\n",
      "4\n",
      "6\n",
      "8\n"
     ]
    }
   ],
   "source": [
    "# Q4\n",
    "\"\"\"In Python, a generator function is a special type of function that generates a sequence of values using the 'yield' keyword.\n",
    "Unlike regular functions that return a value and then terminate, generator functions can yield multiple values, allowing for iterative and memory-efficient processing. \"\"\"\n",
    "\"\"\"The 'yield' keyword is used in a generator function to define points at which the function should pause and \n",
    "return a value to the caller. When a generator function encounters a yield statement, \n",
    "it temporarily suspends its execution, saves its state, and returns the yielded value. The next time the generator function is called, it resumes execution from where it left off,\n",
    "continuing until the next 'yield' statement is encountered\"\"\"\n",
    "def generate_even_numbers(limit):\n",
    "    num = 0\n",
    "    while num < limit:\n",
    "        yield num\n",
    "        num += 2\n",
    "even_generator = generate_even_numbers(10)\n",
    "for number in even_generator:\n",
    "    print(number)\n"
   ]
  },
  {
   "cell_type": "code",
   "execution_count": 2,
   "id": "b5610c9c-0b2b-4f53-b866-bf10a38d5846",
   "metadata": {},
   "outputs": [
    {
     "name": "stdout",
     "output_type": "stream",
     "text": [
      "2\n",
      "3\n",
      "5\n",
      "7\n",
      "11\n",
      "13\n",
      "17\n",
      "19\n",
      "23\n",
      "29\n",
      "31\n",
      "37\n",
      "41\n",
      "43\n",
      "47\n",
      "53\n",
      "59\n",
      "61\n",
      "67\n",
      "71\n"
     ]
    }
   ],
   "source": [
    "# Q5\n",
    "def generate_primes():\n",
    "    primes = []\n",
    "    num = 2\n",
    "    while num < 1000:\n",
    "        is_prime = True\n",
    "        for prime in primes:\n",
    "            if num % prime == 0:\n",
    "                is_prime = False\n",
    "                break\n",
    "            if prime * prime > num:\n",
    "                break\n",
    "        if is_prime:\n",
    "            primes.append(num)\n",
    "            yield num\n",
    "        num += 1\n",
    "prime_generator = generate_primes()\n",
    "for _ in range(20):\n",
    "    prime = next(prime_generator)\n",
    "    print(prime)\n"
   ]
  },
  {
   "cell_type": "code",
   "execution_count": 3,
   "id": "b1f4b3ae-0a6e-4ea6-8f69-9cea1dceff03",
   "metadata": {},
   "outputs": [
    {
     "name": "stdout",
     "output_type": "stream",
     "text": [
      "0\n",
      "1\n",
      "1\n",
      "2\n",
      "3\n",
      "5\n",
      "8\n",
      "13\n",
      "21\n",
      "34\n"
     ]
    }
   ],
   "source": [
    "#Q6\n",
    "def fibonacci_sequence(n):\n",
    "    fib_sequence = []\n",
    "    a, b = 0, 1\n",
    "    while len(fib_sequence) < n:\n",
    "        fib_sequence.append(a)\n",
    "        a, b = b, a + b\n",
    "    return fib_sequence\n",
    "fib_numbers = fibonacci_sequence(10)\n",
    "for number in fib_numbers:\n",
    "    print(number)\n"
   ]
  },
  {
   "cell_type": "code",
   "execution_count": 9,
   "id": "ffba8653-4c17-4b67-a71e-307f08975f4c",
   "metadata": {},
   "outputs": [
    {
     "name": "stdout",
     "output_type": "stream",
     "text": [
      "['p', 'w', 's', 'k', 'i', 'l', 'l', 's']\n"
     ]
    }
   ],
   "source": [
    "#Q7\n",
    "s = \"pwskills\"\n",
    "l = []\n",
    "for i in s:\n",
    "    l.append(i)\n",
    "    \n",
    "print(l)"
   ]
  },
  {
   "cell_type": "code",
   "execution_count": 10,
   "id": "fdc363c6-cd9d-4fc9-b631-26528f97f198",
   "metadata": {},
   "outputs": [
    {
     "name": "stdin",
     "output_type": "stream",
     "text": [
      "Enter a number:  6788\n"
     ]
    },
    {
     "name": "stdout",
     "output_type": "stream",
     "text": [
      "The number is not a palindrome.\n"
     ]
    }
   ],
   "source": [
    "#Q8\n",
    "def is_palindrome(num):\n",
    "    num_str = str(num)\n",
    "    if num_str == num_str[::-1]:\n",
    "        return True\n",
    "    else:\n",
    "        return False\n",
    "\n",
    "\n",
    "number = int(input(\"Enter a number: \"))\n",
    "if is_palindrome(number):\n",
    "    print(\"The number is a palindrome.\")\n",
    "else:\n",
    "    print(\"The number is not a palindrome.\")\n"
   ]
  },
  {
   "cell_type": "code",
   "execution_count": 11,
   "id": "da2f4afd-a817-4af9-8359-fc62fef3a1f6",
   "metadata": {},
   "outputs": [
    {
     "name": "stdout",
     "output_type": "stream",
     "text": [
      "[1, 3, 5, 7, 9, 11, 13, 15, 17, 19, 21, 23, 25, 27, 29, 31, 33, 35, 37, 39, 41, 43, 45, 47, 49, 51, 53, 55, 57, 59, 61, 63, 65, 67, 69, 71, 73, 75, 77, 79, 81, 83, 85, 87, 89, 91, 93, 95, 97, 99]\n"
     ]
    }
   ],
   "source": [
    "#Q9\n",
    "odd_numbers = [num for num in range(1, 101) if num % 2 != 0]\n",
    "print(odd_numbers)\n"
   ]
  },
  {
   "cell_type": "code",
   "execution_count": null,
   "id": "b6271169-3a06-4a0a-8c30-431b0e48a861",
   "metadata": {},
   "outputs": [],
   "source": []
  }
 ],
 "metadata": {
  "kernelspec": {
   "display_name": "Python 3 (ipykernel)",
   "language": "python",
   "name": "python3"
  },
  "language_info": {
   "codemirror_mode": {
    "name": "ipython",
    "version": 3
   },
   "file_extension": ".py",
   "mimetype": "text/x-python",
   "name": "python",
   "nbconvert_exporter": "python",
   "pygments_lexer": "ipython3",
   "version": "3.10.8"
  }
 },
 "nbformat": 4,
 "nbformat_minor": 5
}
